{
 "cells": [
  {
   "cell_type": "markdown",
   "metadata": {},
   "source": [
    "# Getting stock latest OHLCV"
   ]
  },
  {
   "cell_type": "code",
   "execution_count": 8,
   "metadata": {},
   "outputs": [],
   "source": [
    "import requests\n",
    "from datetime import datetime\n",
    "\n",
    "symbol = 'ANA.MC'\n",
    "\n",
    "today = datetime.today().strftime('%Y-%m-%d')\n",
    "today = '2019-11-04'"
   ]
  },
  {
   "cell_type": "markdown",
   "metadata": {},
   "source": [
    "## WorkTradingData"
   ]
  },
  {
   "cell_type": "code",
   "execution_count": 7,
   "metadata": {},
   "outputs": [
    {
     "data": {
      "text/plain": [
       "{'date': '2019-11-04',\n",
       " 'data': {'ANA.MC': {'open': '93.15',\n",
       "   'close': '92.85',\n",
       "   'high': '93.95',\n",
       "   'low': '92.85',\n",
       "   'volume': '170840'}}}"
      ]
     },
     "execution_count": 7,
     "metadata": {},
     "output_type": "execute_result"
    }
   ],
   "source": [
    "api_key = 'WzDx1XnfvdGGBbfmAGwBuZBBnWKhMCIqbbVlmVKK3jFIvSLVphldCZPqOy2l'\n",
    "provider_url = 'https://api.worldtradingdata.com/api/v1/history_multi_single_day'\n",
    "\n",
    "url = provider_url + '?symbol=' + symbol + '&date=' + today + '&api_token=' + api_key\n",
    "\n",
    "response = requests.get(url)\n",
    "response.json()"
   ]
  },
  {
   "cell_type": "markdown",
   "metadata": {},
   "source": [
    "## Alpha Vantage"
   ]
  },
  {
   "cell_type": "code",
   "execution_count": 9,
   "metadata": {},
   "outputs": [
    {
     "data": {
      "text/plain": [
       "{'date': '2019-11-04',\n",
       " 'data': {'ANA.MC': {'open': '93.15',\n",
       "   'close': '92.85',\n",
       "   'high': '93.95',\n",
       "   'low': '92.85',\n",
       "   'volume': '170840'}}}"
      ]
     },
     "execution_count": 9,
     "metadata": {},
     "output_type": "execute_result"
    }
   ],
   "source": [
    "api_key = 'HF9S3IZSBKSKHPV3'\n",
    "provider_url = 'https://www.alphavantage.co/query?function=GLOBAL_QUOTE&symbol='\n",
    "\n",
    "url = provider_url + symbol + '&apikey=' + api_key\n",
    "respone = requests.get(url)\n",
    "response.json()"
   ]
  },
  {
   "cell_type": "code",
   "execution_count": null,
   "metadata": {},
   "outputs": [],
   "source": []
  }
 ],
 "metadata": {
  "kernelspec": {
   "display_name": "Python 3",
   "language": "python",
   "name": "python3"
  },
  "language_info": {
   "codemirror_mode": {
    "name": "ipython",
    "version": 3
   },
   "file_extension": ".py",
   "mimetype": "text/x-python",
   "name": "python",
   "nbconvert_exporter": "python",
   "pygments_lexer": "ipython3",
   "version": "3.7.3"
  }
 },
 "nbformat": 4,
 "nbformat_minor": 4
}
