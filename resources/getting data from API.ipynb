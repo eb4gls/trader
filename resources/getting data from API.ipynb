{
 "cells": [
  {
   "cell_type": "markdown",
   "metadata": {},
   "source": [
    "# Getting stock latest OHLCV"
   ]
  },
  {
   "cell_type": "code",
   "execution_count": 13,
   "metadata": {},
   "outputs": [],
   "source": [
    "import requests\n",
    "from datetime import datetime\n",
    "import pandas as pd\n",
    "from pandas.tseries.offsets import BDay\n",
    "\n",
    "symbol = 'ANA.MC'\n",
    "\n",
    "today = datetime.today().strftime('%Y-%m-%d')\n",
    "today = datetime.today()\n",
    "# today = '2019-11-07'"
   ]
  },
  {
   "cell_type": "markdown",
   "metadata": {},
   "source": [
    "## WorkTradingData"
   ]
  },
  {
   "cell_type": "code",
   "execution_count": 6,
   "metadata": {},
   "outputs": [
    {
     "data": {
      "text/plain": [
       "{'Message': 'Error! No data was found.'}"
      ]
     },
     "execution_count": 6,
     "metadata": {},
     "output_type": "execute_result"
    }
   ],
   "source": [
    "api_key = 'WzDx1XnfvdGGBbfmAGwBuZBBnWKhMCIqbbVlmVKK3jFIvSLVphldCZPqOy2l'\n",
    "provider_url = 'https://api.worldtradingdata.com/api/v1/history_multi_single_day'\n",
    "\n",
    "url = provider_url + '?symbol=' + symbol + '&date=' + today + '&api_token=' + api_key\n",
    "\n",
    "response = requests.get(url)\n",
    "response.json()"
   ]
  },
  {
   "cell_type": "markdown",
   "metadata": {},
   "source": [
    "## Alpha Vantage"
   ]
  },
  {
   "cell_type": "code",
   "execution_count": 4,
   "metadata": {},
   "outputs": [
    {
     "data": {
      "text/plain": [
       "{'Global Quote': {'01. symbol': 'ANA.MC',\n",
       "  '02. open': '93.7500',\n",
       "  '03. high': '93.8000',\n",
       "  '04. low': '92.2500',\n",
       "  '05. price': '92.7500',\n",
       "  '06. volume': '69081',\n",
       "  '07. latest trading day': '2019-11-07',\n",
       "  '08. previous close': '92.7000',\n",
       "  '09. change': '0.0500',\n",
       "  '10. change percent': '0.0539%'}}"
      ]
     },
     "execution_count": 4,
     "metadata": {},
     "output_type": "execute_result"
    }
   ],
   "source": [
    "api_key = 'HF9S3IZSBKSKHPV3'\n",
    "provider_url = 'https://www.alphavantage.co/query?function=GLOBAL_QUOTE&symbol='\n",
    "\n",
    "url = provider_url + symbol + '&apikey=' + api_key\n",
    "response = requests.get(url)\n",
    "response.json()"
   ]
  },
  {
   "cell_type": "markdown",
   "metadata": {},
   "source": [
    "How to guess what is the last business day?"
   ]
  },
  {
   "cell_type": "code",
   "execution_count": 48,
   "metadata": {},
   "outputs": [],
   "source": [
    "def last_business_day(datetime_str: str = None, strformat: bool = True):\n",
    "    \"\"\"\n",
    "    Returns the last business day.\n",
    "    :params datetime_str: A date in format 'YYYY-MM-DD' from which to compute \n",
    "        what is the last business day.\n",
    "    :params strformat: Whether to convert the returns value to string. Default YES.\n",
    "        Otherwise, the value returned is a datetime object\n",
    "    \"\"\"\n",
    "    if datetime_str is None:\n",
    "        datetime_obj = pd.datetime.today()\n",
    "    else:\n",
    "        datetime_obj = datetime.strptime(datetime_str, '%Y-%m-%d')\n",
    "\n",
    "    last_business_day = datetime_obj - BDay(1)\n",
    "    if strformat:\n",
    "        return last_business_day.strftime('%Y-%m-%d')\n",
    "    else:\n",
    "        return last_business_day.to_pydatetime()"
   ]
  },
  {
   "cell_type": "code",
   "execution_count": 51,
   "metadata": {},
   "outputs": [
    {
     "data": {
      "text/plain": [
       "'2019-11-07'"
      ]
     },
     "execution_count": 51,
     "metadata": {},
     "output_type": "execute_result"
    }
   ],
   "source": [
    "last_business_day()"
   ]
  },
  {
   "cell_type": "code",
   "execution_count": 52,
   "metadata": {},
   "outputs": [
    {
     "data": {
      "text/plain": [
       "'2019-11-08'"
      ]
     },
     "execution_count": 52,
     "metadata": {},
     "output_type": "execute_result"
    }
   ],
   "source": [
    "last_business_day('2019-11-11')"
   ]
  },
  {
   "cell_type": "code",
   "execution_count": 53,
   "metadata": {},
   "outputs": [
    {
     "data": {
      "text/plain": [
       "datetime.datetime(2019, 11, 8, 0, 0)"
      ]
     },
     "execution_count": 53,
     "metadata": {},
     "output_type": "execute_result"
    }
   ],
   "source": [
    "last_business_day('2019-11-11', strformat=False)"
   ]
  }
 ],
 "metadata": {
  "kernelspec": {
   "display_name": "Python 3",
   "language": "python",
   "name": "python3"
  },
  "language_info": {
   "codemirror_mode": {
    "name": "ipython",
    "version": 3
   },
   "file_extension": ".py",
   "mimetype": "text/x-python",
   "name": "python",
   "nbconvert_exporter": "python",
   "pygments_lexer": "ipython3",
   "version": "3.7.3"
  }
 },
 "nbformat": 4,
 "nbformat_minor": 4
}
