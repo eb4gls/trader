{
 "cells": [
  {
   "cell_type": "markdown",
   "metadata": {},
   "source": [
    "# Generic NN trainer"
   ]
  },
  {
   "cell_type": "code",
   "execution_count": 2,
   "metadata": {},
   "outputs": [
    {
     "name": "stdout",
     "output_type": "stream",
     "text": [
      "The lab_black extension is already loaded. To reload it, use:\n",
      "  %reload_ext lab_black\n"
     ]
    }
   ],
   "source": [
    "import mlflow\n",
    "import mlflow.keras\n",
    "from numpy import ndarray\n",
    "import pandas as pd\n",
    "import sys\n",
    "\n",
    "import warnings\n",
    "\n",
    "warnings.filterwarnings(\"ignore\", category=DeprecationWarning)\n",
    "\n",
    "import tensorflow as tf\n",
    "\n",
    "%load_ext lab_black\n",
    "\n",
    "sys.path.append(\"/Users/renero/Documents/SideProjects/trader/src\")\n",
    "sys.path.append(\"/Users/renero/Documents/SideProjects/trader/src/predictor\")\n",
    "sys.path.append(\"/Users/renero/Documents/SideProjects/trader/src/utils\")\n",
    "\n",
    "from cs_dictionary import CSDictionary\n",
    "from lstm import lstm_1layer, lstm_2layer\n",
    "from sequences import sequences\n",
    "from ticks import Ticks\n",
    "from metrics import metrics"
   ]
  },
  {
   "cell_type": "code",
   "execution_count": null,
   "metadata": {},
   "outputs": [],
   "source": [
    "argv = [\n",
    "    \"\",\n",
    "    \"-c\",\n",
    "    \"../src/predictor/params.dax.yaml\",\n",
    "    \"-f\",\n",
    "    \"../data/^GDAXI/dax_2018_2019.csv\",\n",
    "    \"--window\",\n",
    "    \"8\",\n",
    "    \"--epochs\",\n",
    "    \"400\",\n",
    "    \"train\",\n",
    "]\n",
    "params = CSDictionary(args=argv)\n",
    "\n",
    "ticks = Ticks(params, params.input_file, scale=True)\n",
    "\n",
    "X_train, y_train, X_test, y_test = sequences.prepare(\n",
    "    ticks.data, timesteps=params.window_size, test_size=params.test_size\n",
    ")\n",
    "\n",
    "params.num_features = sequences.get_num_features(X_train)\n",
    "params.num_target_labels = sequences.get_num_target_labels(y_train)\n",
    "\n",
    "nn = lstm_2layer(params)\n",
    "\n",
    "nn.start_experiment(X_train, y_train, \"2layers\")\n",
    "result = nn.evaluate_experiment(X_test, y_test)\n",
    "nn.end_experiment()"
   ]
  },
  {
   "cell_type": "code",
   "execution_count": null,
   "metadata": {},
   "outputs": [],
   "source": [
    "metrics.plot_and_compare(result)"
   ]
  },
  {
   "cell_type": "code",
   "execution_count": null,
   "metadata": {},
   "outputs": [],
   "source": []
  }
 ],
 "metadata": {
  "kernelspec": {
   "display_name": "Python 3",
   "language": "python",
   "name": "python3"
  },
  "language_info": {
   "codemirror_mode": {
    "name": "ipython",
    "version": 3
   },
   "file_extension": ".py",
   "mimetype": "text/x-python",
   "name": "python",
   "nbconvert_exporter": "python",
   "pygments_lexer": "ipython3",
   "version": "3.7.8"
  }
 },
 "nbformat": 4,
 "nbformat_minor": 4
}
