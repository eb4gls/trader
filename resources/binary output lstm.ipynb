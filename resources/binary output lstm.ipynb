{
 "cells": [
  {
   "cell_type": "markdown",
   "metadata": {},
   "source": [
    "# Binary Output in the LSTM"
   ]
  },
  {
   "cell_type": "code",
   "execution_count": 4,
   "metadata": {},
   "outputs": [
    {
     "name": "stdout",
     "output_type": "stream",
     "text": [
      "The lab_black extension is already loaded. To reload it, use:\n",
      "  %reload_ext lab_black\n"
     ]
    }
   ],
   "source": [
    "import matplotlib.pyplot as plt\n",
    "import mlflow\n",
    "import mlflow.keras\n",
    "import numpy as np\n",
    "from numpy import ndarray\n",
    "import pandas as pd\n",
    "import sys\n",
    "\n",
    "import warnings\n",
    "\n",
    "warnings.filterwarnings(\"ignore\", category=DeprecationWarning)\n",
    "\n",
    "import tensorflow as tf\n",
    "\n",
    "%load_ext lab_black\n",
    "\n",
    "sys.path.append(\"/Users/renero/Documents/SideProjects/trader/src\")\n",
    "sys.path.append(\"/Users/renero/Documents/SideProjects/trader/src/predictor\")\n",
    "sys.path.append(\"/Users/renero/Documents/SideProjects/trader/src/utils\")\n",
    "sys.path.append(\"/Users/renero/Documents/SideProjects/trader/src/indicators\")\n",
    "\n",
    "\n",
    "from cs_dictionary import CSDictionary\n",
    "from lstm import lstm_1layer, lstm_2layer\n",
    "from sequences import sequences\n",
    "from ticks import Ticks\n",
    "from metrics import metrics"
   ]
  },
  {
   "cell_type": "code",
   "execution_count": 5,
   "metadata": {},
   "outputs": [
    {
     "name": "stdout",
     "output_type": "stream",
     "text": [
      "2020-09-17 13:37:51 - INFO  - CSDictionary:__init__           - Using configuration parameters from: ../src/predictor/params.dax.yaml\n"
     ]
    }
   ],
   "source": [
    "argv = [\n",
    "    \"\",\n",
    "    \"-c\",\n",
    "    \"../src/predictor/params.dax.yaml\",\n",
    "    \"-f\",\n",
    "    \"../data/^GDAXI/dax_2018_2019.csv\",\n",
    "    \"--window\",\n",
    "    \"8\",\n",
    "    \"--epochs\",\n",
    "    \"400\",\n",
    "    \"train\",\n",
    "]\n",
    "params = CSDictionary(args=argv)\n",
    "\n",
    "ticks = Ticks(params, params.input_file).scale()"
   ]
  },
  {
   "cell_type": "code",
   "execution_count": 6,
   "metadata": {},
   "outputs": [
    {
     "data": {
      "text/html": [
       "<div>\n",
       "<style scoped>\n",
       "    .dataframe tbody tr th:only-of-type {\n",
       "        vertical-align: middle;\n",
       "    }\n",
       "\n",
       "    .dataframe tbody tr th {\n",
       "        vertical-align: top;\n",
       "    }\n",
       "\n",
       "    .dataframe thead th {\n",
       "        text-align: right;\n",
       "    }\n",
       "</style>\n",
       "<table border=\"1\" class=\"dataframe\">\n",
       "  <thead>\n",
       "    <tr style=\"text-align: right;\">\n",
       "      <th></th>\n",
       "      <th>open</th>\n",
       "      <th>high</th>\n",
       "      <th>low</th>\n",
       "      <th>close</th>\n",
       "      <th>trend</th>\n",
       "      <th>median_filter</th>\n",
       "    </tr>\n",
       "    <tr>\n",
       "      <th>Datetime</th>\n",
       "      <th></th>\n",
       "      <th></th>\n",
       "      <th></th>\n",
       "      <th></th>\n",
       "      <th></th>\n",
       "      <th></th>\n",
       "    </tr>\n",
       "  </thead>\n",
       "  <tbody>\n",
       "    <tr>\n",
       "      <th>2018-01-02</th>\n",
       "      <td>0.71</td>\n",
       "      <td>0.66</td>\n",
       "      <td>0.61</td>\n",
       "      <td>0.67</td>\n",
       "      <td>1.0</td>\n",
       "      <td>0.67</td>\n",
       "    </tr>\n",
       "    <tr>\n",
       "      <th>2018-01-03</th>\n",
       "      <td>0.73</td>\n",
       "      <td>0.78</td>\n",
       "      <td>0.77</td>\n",
       "      <td>0.79</td>\n",
       "      <td>1.0</td>\n",
       "      <td>0.79</td>\n",
       "    </tr>\n",
       "    <tr>\n",
       "      <th>2018-01-04</th>\n",
       "      <td>0.90</td>\n",
       "      <td>0.99</td>\n",
       "      <td>0.96</td>\n",
       "      <td>1.00</td>\n",
       "      <td>1.0</td>\n",
       "      <td>1.00</td>\n",
       "    </tr>\n",
       "    <tr>\n",
       "      <th>2018-01-05</th>\n",
       "      <td>1.07</td>\n",
       "      <td>1.13</td>\n",
       "      <td>1.13</td>\n",
       "      <td>1.17</td>\n",
       "      <td>1.0</td>\n",
       "      <td>1.17</td>\n",
       "    </tr>\n",
       "    <tr>\n",
       "      <th>2018-01-08</th>\n",
       "      <td>1.26</td>\n",
       "      <td>1.21</td>\n",
       "      <td>1.26</td>\n",
       "      <td>1.22</td>\n",
       "      <td>1.0</td>\n",
       "      <td>1.17</td>\n",
       "    </tr>\n",
       "  </tbody>\n",
       "</table>\n",
       "</div>"
      ],
      "text/plain": [
       "            open  high   low  close  trend  median_filter\n",
       "Datetime                                                 \n",
       "2018-01-02  0.71  0.66  0.61   0.67    1.0           0.67\n",
       "2018-01-03  0.73  0.78  0.77   0.79    1.0           0.79\n",
       "2018-01-04  0.90  0.99  0.96   1.00    1.0           1.00\n",
       "2018-01-05  1.07  1.13  1.13   1.17    1.0           1.17\n",
       "2018-01-08  1.26  1.21  1.26   1.22    1.0           1.17"
      ]
     },
     "execution_count": 6,
     "metadata": {},
     "output_type": "execute_result"
    }
   ],
   "source": [
    "ticks.append_indicator([\"trend\", \"median_filter\"])\n",
    "ticks.data.head()"
   ]
  },
  {
   "cell_type": "markdown",
   "metadata": {},
   "source": [
    "The way it should be:\n",
    "\n",
    "```python\n",
    "    # to predict close and use OHLC values\n",
    ">>> ticks.to_timewindows(predict='close')\n",
    ">>> X, y, Xt, yt = ticks.split(test_size=0.1)\n",
    "    \n",
    "    # To generate X and y without test set\n",
    ">>> ticks.to_timewindows(predict='close')\n",
    ">>> X, y = ticks.split(test_size=0.0)\n",
    "\n",
    "    # if we want to predict \"trend\"\n",
    ">>> ticks.append_indicator('trend')\n",
    ">>> ticks.to_timewindows(predict='trend')\n",
    ">>> X, y , Xt, yt = split(test_size=0.1)\n",
    "    \n",
    "    # if we want to use less variables in prediction\n",
    ">>> ticks.append_indicator(['moving_average', 'trend'])\n",
    ">>> ticks.to_timewindows(predict='trend', train_columns=['close', 'moving_average'])\n",
    "```\n",
    "\n",
    "So, let's work on it."
   ]
  },
  {
   "cell_type": "code",
   "execution_count": 12,
   "metadata": {},
   "outputs": [],
   "source": [
    "X_train, y_train, X_test, y_test = ticks.to_timewindows(\n",
    "    \"trend\", train_columns=[\"close\", \"trend\"]\n",
    ")"
   ]
  },
  {
   "cell_type": "code",
   "execution_count": 13,
   "metadata": {},
   "outputs": [
    {
     "name": "stdout",
     "output_type": "stream",
     "text": [
      "X_train.shape: (424, 8, 2)\n",
      "y_train.shape: (424,)\n",
      "X_test.shape: (48, 8, 2)\n",
      "y_test.shape: (48,)\n"
     ]
    }
   ],
   "source": [
    "print(f\"X_train.shape: {X_train.shape}\")\n",
    "print(f\"y_train.shape: {y_train.shape}\")\n",
    "print(f\"X_test.shape: {X_test.shape}\")\n",
    "print(f\"y_test.shape: {y_test.shape}\")"
   ]
  }
 ],
 "metadata": {
  "kernelspec": {
   "display_name": "Python 3",
   "language": "python",
   "name": "python3"
  },
  "language_info": {
   "codemirror_mode": {
    "name": "ipython",
    "version": 3
   },
   "file_extension": ".py",
   "mimetype": "text/x-python",
   "name": "python",
   "nbconvert_exporter": "python",
   "pygments_lexer": "ipython3",
   "version": "3.8.5"
  }
 },
 "nbformat": 4,
 "nbformat_minor": 4
}
