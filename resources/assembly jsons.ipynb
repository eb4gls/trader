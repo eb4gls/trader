{
 "cells": [
  {
   "cell_type": "markdown",
   "metadata": {},
   "source": [
    "# Assembly jsons"
   ]
  },
  {
   "cell_type": "code",
   "execution_count": 2,
   "metadata": {},
   "outputs": [],
   "source": [
    "import json"
   ]
  },
  {
   "cell_type": "code",
   "execution_count": 3,
   "metadata": {},
   "outputs": [],
   "source": [
    "def read_json(filename):\n",
    "    with open(filename) as f:\n",
    "        data = json.load(f)\n",
    "    return data\n"
   ]
  },
  {
   "cell_type": "code",
   "execution_count": 4,
   "metadata": {},
   "outputs": [
    {
     "name": "stdout",
     "output_type": "stream",
     "text": [
      "{'w_avg': 92.5331185567}\n",
      "{'open': 92.15, 'high': 91.8, 'low': 94.6, 'close': 96.3, 'volume': 130028.0, 'verde': 135.7788069524, 'azul': 1.0018393655}\n"
     ]
    }
   ],
   "source": [
    "ensemble = read_json('../output/tmp_forecast.json')\n",
    "indicator = read_json('../output/tmp_indicator.json')\n",
    "print(ensemble)\n",
    "print(indicator)"
   ]
  },
  {
   "cell_type": "markdown",
   "metadata": {},
   "source": [
    "This is the line that should be generated and appended to the end of the `forecast` file."
   ]
  },
  {
   "cell_type": "code",
   "execution_count": 5,
   "metadata": {},
   "outputs": [
    {
     "data": {
      "text/plain": [
       "'96.30,92.53,135.78,1.00'"
      ]
     },
     "execution_count": 5,
     "metadata": {},
     "output_type": "execute_result"
    }
   ],
   "source": [
    "forecast_items = [indicator['close'], ensemble['w_avg'],\n",
    "                  indicator['verde'], indicator['azul']]\n",
    "\n",
    "def f(x):\n",
    "    return '{:.2f}'.format(x)\n",
    "\n",
    "csv_row = ','.join(map(f, forecast_items))\n",
    "csv_row"
   ]
  },
  {
   "cell_type": "markdown",
   "metadata": {},
   "source": [
    "To solve: Make a sinlge MinMaxScaler for Konkorde, save it when batching, and use it when computing a single value."
   ]
  }
 ],
 "metadata": {
  "kernelspec": {
   "display_name": "Python 3",
   "language": "python",
   "name": "python3"
  },
  "language_info": {
   "codemirror_mode": {
    "name": "ipython",
    "version": 3
   },
   "file_extension": ".py",
   "mimetype": "text/x-python",
   "name": "python",
   "nbconvert_exporter": "python",
   "pygments_lexer": "ipython3",
   "version": "3.7.4"
  }
 },
 "nbformat": 4,
 "nbformat_minor": 4
}
