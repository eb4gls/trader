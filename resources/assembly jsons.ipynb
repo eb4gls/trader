{
  "cells": [
    {
      "cell_type": "markdown",
      "source": [
        "# Assembly jsons"
      ],
      "metadata": {}
    },
    {
      "cell_type": "code",
      "source": [
        "import json"
      ],
      "outputs": [],
      "execution_count": 2,
      "metadata": {}
    },
    {
      "cell_type": "code",
      "source": [
        "def read_json(filename):\n",
        "    with open(filename) as f:\n",
        "        data = json.load(f)\n",
        "    return data\n"
      ],
      "outputs": [],
      "execution_count": 3,
      "metadata": {}
    },
    {
      "cell_type": "code",
      "source": [
        "ensemble = read_json('../output/tmp_forecast.json')\n",
        "indicator = read_json('../output/tmp_indicator.json')\n",
        "print(ensemble)\n",
        "print(indicator)"
      ],
      "outputs": [
        {
          "output_type": "stream",
          "name": "stdout",
          "text": [
            "{'w_avg': 92.5331185567}\n",
            "{'open': 92.15, 'high': 91.8, 'low': 94.6, 'close': 96.3, 'volume': 130028.0, 'verde': 135.7788069524, 'azul': 1.0018393655}\n"
          ]
        }
      ],
      "execution_count": 4,
      "metadata": {}
    },
    {
      "cell_type": "markdown",
      "source": [
        "This is the line that should be generated and appended to the end of the `forecast` file."
      ],
      "metadata": {}
    },
    {
      "cell_type": "code",
      "source": [
        "forecast_items = [indicator['close'], ensemble['w_avg'],\n",
        "                  indicator['verde'], indicator['azul']]\n",
        "\n",
        "def f(x):\n",
        "    return '{:.2f}'.format(x)\n",
        "\n",
        "csv_row = ','.join(map(f, forecast_items))\n",
        "csv_row"
      ],
      "outputs": [
        {
          "output_type": "execute_result",
          "execution_count": 5,
          "data": {
            "text/plain": [
              "'96.30,92.53,135.78,1.00'"
            ]
          },
          "metadata": {}
        }
      ],
      "execution_count": 5,
      "metadata": {}
    },
    {
      "cell_type": "markdown",
      "source": [
        "To solve: \n",
        "\n",
        "- ~~Make a sinlge MinMaxScaler for Konkorde, save it when batching, and use it when computing a single value~~.\n",
        "- Save the portfolio status to later retrieve it."
      ],
      "metadata": {}
    },
    {
      "cell_type": "markdown",
      "source": [],
      "metadata": {}
    }
  ],
  "metadata": {
    "kernelspec": {
      "name": "python3",
      "language": "python",
      "display_name": "Python 3"
    },
    "language_info": {
      "name": "python",
      "version": "3.7.4",
      "mimetype": "text/x-python",
      "codemirror_mode": {
        "name": "ipython",
        "version": 3
      },
      "pygments_lexer": "ipython3",
      "nbconvert_exporter": "python",
      "file_extension": ".py"
    },
    "kernel_info": {
      "name": "python3"
    },
    "nteract": {
      "version": "0.15.0"
    }
  },
  "nbformat": 4,
  "nbformat_minor": 4
}